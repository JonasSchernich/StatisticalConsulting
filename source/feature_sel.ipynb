{
 "cells": [
  {
   "cell_type": "code",
   "execution_count": 2,
   "metadata": {},
   "outputs": [],
   "source": [
    "from preprocessing import DataLoader\n",
    "import os\n",
    "\n",
    "base_path = os.path.dirname(os.getcwd()) \n",
    "loader = DataLoader(base_path)\n",
    "loader.load_all_data()"
   ]
  },
  {
   "cell_type": "code",
   "execution_count": 9,
   "metadata": {},
   "outputs": [
    {
     "name": "stdout",
     "output_type": "stream",
     "text": [
      "Alle Daten wurden in separate Variablen extrahiert.\n",
      "Anzahl der Expressions-Dateien: 9\n",
      "Anzahl der originalen pData-Dateien: 9\n",
      "Anzahl der imputierten pData-Dateien: 9\n"
     ]
    }
   ],
   "source": [
    "# Expressions-Daten\n",
    "exprs_data = loader.exprs_data\n",
    "\n",
    "# Originale pData\n",
    "pdata_original = loader.pdata_original\n",
    "\n",
    "# Imputierte pData\n",
    "pdata_imputed = loader.pdata_imputed\n",
    "\n",
    "# All Genes Daten\n",
    "all_genes_data = loader.all_genes_data\n",
    "\n",
    "# Common Genes Daten\n",
    "common_genes_data = loader.common_genes_data\n",
    "\n",
    "# Intersection Daten\n",
    "intersection_data = loader.intersection_data\n",
    "\n",
    "# Merged originale pData\n",
    "merged_pdata_original = loader.merged_pdata_original\n",
    "\n",
    "# Merged imputierte pData\n",
    "merged_pdata_imputed = loader.merged_pdata_imputed\n",
    "\n"
   ]
  },
  {
   "cell_type": "code",
   "execution_count": 10,
   "metadata": {},
   "outputs": [
    {
     "data": {
      "text/plain": [
       "{'merged_imputed_pData.csv':                                         AGE        TISSUE CLIN_T_STAGE  \\\n",
       " Atlanta_2014_Long.PT081               78.00          FFPE          T1C   \n",
       " Atlanta_2014_Long.PT127               61.00          FFPE          T1C   \n",
       " Atlanta_2014_Long.PT168               63.00          FFPE           T1   \n",
       " Atlanta_2014_Long.PT184               58.00          FFPE          T2B   \n",
       " Atlanta_2014_Long.PT199               57.00          FFPE          T1C   \n",
       " ...                                     ...           ...          ...   \n",
       " Stockholm_2016_Ross_Adams.STKHLM8462  48.00  Fresh_frozen          T2A   \n",
       " Stockholm_2016_Ross_Adams.STKHLM8659  47.00  Fresh_frozen          T2B   \n",
       " Stockholm_2016_Ross_Adams.STKHLM9157  63.20  Fresh_frozen          T2B   \n",
       " Stockholm_2016_Ross_Adams.STKHLM9161  56.18  Fresh_frozen          T2A   \n",
       " Stockholm_2016_Ross_Adams.STKHLM9246  62.00  Fresh_frozen          T2A   \n",
       " \n",
       "                                      PATH_T_STAGE  GLEASON_SCORE  \\\n",
       " Atlanta_2014_Long.PT081                        T3              7   \n",
       " Atlanta_2014_Long.PT127                        T2              6   \n",
       " Atlanta_2014_Long.PT168                        T2              6   \n",
       " Atlanta_2014_Long.PT184                        T3              7   \n",
       " Atlanta_2014_Long.PT199                        T2              7   \n",
       " ...                                           ...            ...   \n",
       " Stockholm_2016_Ross_Adams.STKHLM8462          T2B              7   \n",
       " Stockholm_2016_Ross_Adams.STKHLM8659          T3B              7   \n",
       " Stockholm_2016_Ross_Adams.STKHLM9157          T3A              7   \n",
       " Stockholm_2016_Ross_Adams.STKHLM9161          T2B              7   \n",
       " Stockholm_2016_Ross_Adams.STKHLM9246          T3A              7   \n",
       " \n",
       "                                       GLEASON_SCORE_1  GLEASON_SCORE_2  \\\n",
       " Atlanta_2014_Long.PT081                             3                4   \n",
       " Atlanta_2014_Long.PT127                             3                3   \n",
       " Atlanta_2014_Long.PT168                             3                3   \n",
       " Atlanta_2014_Long.PT184                             3                4   \n",
       " Atlanta_2014_Long.PT199                             3                4   \n",
       " ...                                               ...              ...   \n",
       " Stockholm_2016_Ross_Adams.STKHLM8462                3                4   \n",
       " Stockholm_2016_Ross_Adams.STKHLM8659                3                4   \n",
       " Stockholm_2016_Ross_Adams.STKHLM9157                3                4   \n",
       " Stockholm_2016_Ross_Adams.STKHLM9161                3                4   \n",
       " Stockholm_2016_Ross_Adams.STKHLM9246                4                3   \n",
       " \n",
       "                                       PRE_OPERATIVE_PSA  MONTH_TO_BCR  \\\n",
       " Atlanta_2014_Long.PT081                           32.00       119.000   \n",
       " Atlanta_2014_Long.PT127                            7.00       114.000   \n",
       " Atlanta_2014_Long.PT168                            1.80        87.000   \n",
       " Atlanta_2014_Long.PT184                            8.20        98.000   \n",
       " Atlanta_2014_Long.PT199                            5.02        69.000   \n",
       " ...                                                 ...           ...   \n",
       " Stockholm_2016_Ross_Adams.STKHLM8462               4.60        69.271   \n",
       " Stockholm_2016_Ross_Adams.STKHLM8659              11.00         1.578   \n",
       " Stockholm_2016_Ross_Adams.STKHLM9157              12.00        58.882   \n",
       " Stockholm_2016_Ross_Adams.STKHLM9161               8.20        60.559   \n",
       " Stockholm_2016_Ross_Adams.STKHLM9246              11.00         1.348   \n",
       " \n",
       "                                       BCR_STATUS  MONTH_TO_CEP  CEP_STATUS  \n",
       " Atlanta_2014_Long.PT081                        0       119.000           0  \n",
       " Atlanta_2014_Long.PT127                        0       114.000           0  \n",
       " Atlanta_2014_Long.PT168                        0        87.000           0  \n",
       " Atlanta_2014_Long.PT184                        0        98.000           0  \n",
       " Atlanta_2014_Long.PT199                        0        69.000           0  \n",
       " ...                                          ...           ...         ...  \n",
       " Stockholm_2016_Ross_Adams.STKHLM8462           0        69.271           0  \n",
       " Stockholm_2016_Ross_Adams.STKHLM8659           1         1.578           1  \n",
       " Stockholm_2016_Ross_Adams.STKHLM9157           0        58.882           0  \n",
       " Stockholm_2016_Ross_Adams.STKHLM9161           0        60.559           0  \n",
       " Stockholm_2016_Ross_Adams.STKHLM9246           1         1.348           1  \n",
       " \n",
       " [1091 rows x 12 columns]}"
      ]
     },
     "execution_count": 10,
     "metadata": {},
     "output_type": "execute_result"
    }
   ],
   "source": [
    "merged_pdata_imputed"
   ]
  }
 ],
 "metadata": {
  "kernelspec": {
   "display_name": ".venv",
   "language": "python",
   "name": "python3"
  },
  "language_info": {
   "codemirror_mode": {
    "name": "ipython",
    "version": 3
   },
   "file_extension": ".py",
   "mimetype": "text/x-python",
   "name": "python",
   "nbconvert_exporter": "python",
   "pygments_lexer": "ipython3",
   "version": "3.11.5"
  }
 },
 "nbformat": 4,
 "nbformat_minor": 2
}
